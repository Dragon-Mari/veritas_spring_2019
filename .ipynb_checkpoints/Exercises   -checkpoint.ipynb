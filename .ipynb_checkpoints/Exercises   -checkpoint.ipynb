{
 "cells": [
  {
   "cell_type": "markdown",
   "metadata": {},
   "source": [
    "# It is possible to name the days 0 through 6 where day 0 is Sunday and day 6 is Saturday. If you go on a wonderful holiday leaving on day number 3 (a Wednesday) and you return home after 10 nights. Write a general version of the program which asks for the starting day number, and the length of your stay, and it will tell you the number of day of the week you will return on."
   ]
  },
  {
   "cell_type": "code",
   "execution_count": 2,
   "metadata": {
    "scrolled": false
   },
   "outputs": [
    {
     "name": "stdout",
     "output_type": "stream",
     "text": [
      "What Day Did You Leave: 3\n",
      "How Many Days Did You Stay There For: 10\n",
      "6\n"
     ]
    }
   ],
   "source": [
    "a = int(input(\"What Day Did You Leave: \"))\n",
    "b = int(input(\"How Many Days Did You Stay There For: \"))\n",
    "c = (a+b%7)\n",
    "print(Satudray)"
   ]
  },
  {
   "cell_type": "markdown",
   "metadata": {},
   "source": [
    "# Write a program that will compute the area of a circle. Prompt the user to enter the radius and print a nice message back to the user with the answer."
   ]
  },
  {
   "cell_type": "code",
   "execution_count": 6,
   "metadata": {
    "scrolled": false
   },
   "outputs": [
    {
     "name": "stdout",
     "output_type": "stream",
     "text": [
      "Input the radius: 2\n",
      "12.56\n"
     ]
    }
   ],
   "source": [
    "a = int(input(\"Enter the radius: \"))\n",
    "print(a**2*3.14)"
   ]
  },
  {
   "cell_type": "markdown",
   "metadata": {},
   "source": [
    "# Write a program that will compute the area of a rectangle. Prompt the user to enter the width and height of the rectangle. Print a nice message with the answer."
   ]
  },
  {
   "cell_type": "code",
   "execution_count": 10,
   "metadata": {},
   "outputs": [
    {
     "name": "stdout",
     "output_type": "stream",
     "text": [
      "Enter the width: 123\n",
      "Enter the length: 123\n",
      "Your future house is going to be 15129 square feet. Then I FBI Raided it.\n"
     ]
    }
   ],
   "source": [
    "a = int(input(\"Enter the width: \"))\n",
    "b = int(input(\"Enter the length: \"))\n",
    "print(\"Your future house is going to be\", a*b, \"square feet. Then I FBI Raided it.\")"
   ]
  },
  {
   "cell_type": "code",
   "execution_count": null,
   "metadata": {},
   "outputs": [],
   "source": []
  }
 ],
 "metadata": {
  "kernelspec": {
   "display_name": "Python 3",
   "language": "python",
   "name": "python3"
  },
  "language_info": {
   "codemirror_mode": {
    "name": "ipython",
    "version": 3
   },
   "file_extension": ".py",
   "mimetype": "text/x-python",
   "name": "python",
   "nbconvert_exporter": "python",
   "pygments_lexer": "ipython3",
   "version": "3.7.1"
  }
 },
 "nbformat": 4,
 "nbformat_minor": 2
}
