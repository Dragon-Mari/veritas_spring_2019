{
 "cells": [
  {
   "cell_type": "code",
   "execution_count": 22,
   "metadata": {
    "scrolled": false
   },
   "outputs": [
    {
     "name": "stdout",
     "output_type": "stream",
     "text": [
      "Pick One: R, P, S R\n",
      "S\n"
     ]
    }
   ],
   "source": [
    "import random\n",
    "user_input2 = input(\"Pick One: R, P, S \")\n",
    "RPS = random.randint(1, 3)\n",
    "if RPS == 1:\n",
    "    RPS = \"R\"\n",
    "elif RPS == 2:\n",
    "    RPS = \"P\"\n",
    "else:\n",
    "    RPS = \"S\"\n",
    "print(RPS)"
   ]
  }
 ],
 "metadata": {
  "kernelspec": {
   "display_name": "Python 3",
   "language": "python",
   "name": "python3"
  },
  "language_info": {
   "codemirror_mode": {
    "name": "ipython",
    "version": 3
   },
   "file_extension": ".py",
   "mimetype": "text/x-python",
   "name": "python",
   "nbconvert_exporter": "python",
   "pygments_lexer": "ipython3",
   "version": "3.7.1"
  }
 },
 "nbformat": 4,
 "nbformat_minor": 2
}
