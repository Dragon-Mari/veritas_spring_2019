{
 "cells": [
  {
   "cell_type": "markdown",
   "metadata": {},
   "source": [
    "# 3. It is possible to name the days 0 through 6 where day 0 is Sunday and day 6 is Saturday. If you go on a wonderful holiday leaving on day number 3 (a Wednesday) and you return home after 10 nights. Write a general version of the program which asks for the starting day number, and the length of your stay, and it will tell you the number of day of the week you will return on."
   ]
  },
  {
   "cell_type": "code",
   "execution_count": 2,
   "metadata": {
    "scrolled": false
   },
   "outputs": [
    {
     "name": "stdout",
     "output_type": "stream",
     "text": [
      "What Day Did You Leave: 3\n",
      "How Many Days Did You Stay There For: 10\n",
      "6\n"
     ]
    }
   ],
   "source": [
    "a = int(input(\"What Day Did You Leave: \"))\n",
    "b = int(input(\"How Many Days Did You Stay There For: \"))\n",
    "c = (a+b%7)\n",
    "print(Satudray)"
   ]
  },
  {
   "cell_type": "markdown",
   "metadata": {},
   "source": [
    "# 8. Write a program that will compute the area of a circle. Prompt the user to enter the radius and print a nice message back to the user with the answer."
   ]
  },
  {
   "cell_type": "code",
   "execution_count": 6,
   "metadata": {
    "scrolled": false
   },
   "outputs": [
    {
     "name": "stdout",
     "output_type": "stream",
     "text": [
      "Input the radius: 2\n",
      "12.56\n"
     ]
    }
   ],
   "source": [
    "a = int(input(\"Enter the radius: \"))\n",
    "print(a**2*3.14)"
   ]
  },
  {
   "cell_type": "markdown",
   "metadata": {},
   "source": [
    "# 9. Write a program that will compute the area of a rectangle. Prompt the user to enter the width and height of the rectangle. Print a nice message with the answer."
   ]
  },
  {
   "cell_type": "code",
   "execution_count": 10,
   "metadata": {},
   "outputs": [
    {
     "name": "stdout",
     "output_type": "stream",
     "text": [
      "Enter the width: 123\n",
      "Enter the length: 123\n",
      "Your future house is going to be 15129 square feet. Then I FBI Raided it.\n"
     ]
    }
   ],
   "source": [
    "a = int(input(\"Enter the width: \"))\n",
    "b = int(input(\"Enter the length: \"))\n",
    "print(\"Your future house is going to be\", a*b, \"square feet. Then I FBI Raided it.\")"
   ]
  },
  {
   "cell_type": "markdown",
   "metadata": {},
   "source": [
    "HW = 10,11,12"
   ]
  },
  {
   "cell_type": "markdown",
   "metadata": {},
   "source": [
    "# 10 Write a program that will compute MPG for a car. Prompt the user to enter the number of miles driven and the number of gallons used. Print a nice message with the answer."
   ]
  },
  {
   "cell_type": "code",
   "execution_count": 32,
   "metadata": {},
   "outputs": [
    {
     "name": "stdout",
     "output_type": "stream",
     "text": [
      "How Much Miles Did You Drive? 55\n",
      "How Much Gallons Did You Use? 55\n",
      "Your mile per gallon is 1.0 mpg. Keep Driving!!!!\n"
     ]
    }
   ],
   "source": [
    "a = int(input(\"How Much Miles Did You Drive? \"))\n",
    "b = int(input(\"How Much Gallons Did You Use? \"))\n",
    "print(\"Your mile per gallon is\", a/b, \"mpg. Keep Driving!!!!\")"
   ]
  },
  {
   "cell_type": "markdown",
   "metadata": {},
   "source": [
    "# 11. Write a program that will convert degrees celsius to degrees fahrenheit."
   ]
  },
  {
   "cell_type": "code",
   "execution_count": 20,
   "metadata": {},
   "outputs": [
    {
     "name": "stdout",
     "output_type": "stream",
     "text": [
      "What is the degrees celcius:40\n",
      "The converted degrees is  104.0 degrees farenheit\n"
     ]
    }
   ],
   "source": [
    "a = int(input(\"What is the degrees celcius:\" ))\n",
    "b =  a * (9 / 5) + 32\n",
    "print(\"The converted degrees is \", b, \"degrees farenheit\")"
   ]
  },
  {
   "cell_type": "markdown",
   "metadata": {},
   "source": [
    "# 12. Write a program that will convert degrees fahrenheit to degrees celsius."
   ]
  },
  {
   "cell_type": "code",
   "execution_count": 31,
   "metadata": {},
   "outputs": [
    {
     "name": "stdout",
     "output_type": "stream",
     "text": [
      "What is the degrees farenheit:104\n",
      "The converted degrees is  40.0 degrees celcius\n"
     ]
    }
   ],
   "source": [
    "a = int(input(\"What is the degrees farenheit:\" ))\n",
    "b =  (a - 32) * 5.0/9.0\n",
    "print(\"The converted degrees is \", b, \"degrees celcius\")"
   ]
  },
  {
   "cell_type": "code",
   "execution_count": null,
   "metadata": {},
   "outputs": [],
   "source": []
  },
  {
   "cell_type": "code",
   "execution_count": null,
   "metadata": {},
   "outputs": [],
   "source": []
  }
 ],
 "metadata": {
  "kernelspec": {
   "display_name": "Python 3",
   "language": "python",
   "name": "python3"
  },
  "language_info": {
   "codemirror_mode": {
    "name": "ipython",
    "version": 3
   },
   "file_extension": ".py",
   "mimetype": "text/x-python",
   "name": "python",
   "nbconvert_exporter": "python",
   "pygments_lexer": "ipython3",
   "version": "3.7.1"
  }
 },
 "nbformat": 4,
 "nbformat_minor": 2
}
