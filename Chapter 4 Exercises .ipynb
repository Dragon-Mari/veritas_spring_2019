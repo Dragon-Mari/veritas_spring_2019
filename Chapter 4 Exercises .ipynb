{
 "cells": [
  {
   "cell_type": "markdown",
   "metadata": {},
   "source": [
    "# Assume you have a list of numbers 12, 10, 32, 3, 66, 17, 42, 99, 20                        a. Write a loop that prints each of the numbers on a new line.                                b. Write a loop that prints each number and its square on a new line"
   ]
  },
  {
   "cell_type": "code",
   "execution_count": 2,
   "metadata": {},
   "outputs": [
    {
     "name": "stdout",
     "output_type": "stream",
     "text": [
      "12\n",
      "10\n",
      "32\n",
      "3\n",
      "66\n",
      "17\n",
      "42\n",
      "99\n",
      "20\n"
     ]
    }
   ],
   "source": [
    "for i in [12, 10, 32, 3, 66, 17, 42, 99, 20]:\n",
    "    print(i)"
   ]
  },
  {
   "cell_type": "code",
   "execution_count": 3,
   "metadata": {},
   "outputs": [
    {
     "name": "stdout",
     "output_type": "stream",
     "text": [
      "144\n",
      "100\n",
      "1024\n",
      "9\n",
      "4356\n",
      "289\n",
      "1764\n",
      "9801\n",
      "400\n"
     ]
    }
   ],
   "source": [
    "for i in [12, 10, 32, 3, 66, 17, 42, 99, 20]:\n",
    "    print(i*i)"
   ]
  },
  {
   "cell_type": "markdown",
   "metadata": {},
   "source": [
    "# Write a program that asks the user for the number of sides, the length of the side, the color, and the fill color of a regular polygon. The program should draw the polygon and then fill it in."
   ]
  },
  {
   "cell_type": "code",
   "execution_count": null,
   "metadata": {},
   "outputs": [],
   "source": [
    "import turtle\n",
    "alex = turtle.Turtle()\n",
    "wn = turtle.Screen()\n",
    "a = int(input(\"What is the number of sides?\"))\n",
    "b = int(input(\"What is the length of the sides?\"))\n",
    "c = str(input(\"What is the color of the sides?\"))\n",
    "d= str(input((\"What is the color of the polygon?\")))\n",
    "for x in (range(a)):\n",
    "    alex.begin_fill()\n",
    "    alex.color(c)\n",
    "    alex.forward(b)\n",
    "    alex.left(360/a)\n",
    "    alex.fillcolor(d)\n",
    "alex.end_fill()"
   ]
  },
  {
   "cell_type": "code",
   "execution_count": null,
   "metadata": {},
   "outputs": [],
   "source": []
  }
 ],
 "metadata": {
  "kernelspec": {
   "display_name": "Python 3",
   "language": "python",
   "name": "python3"
  },
  "language_info": {
   "codemirror_mode": {
    "name": "ipython",
    "version": 3
   },
   "file_extension": ".py",
   "mimetype": "text/x-python",
   "name": "python",
   "nbconvert_exporter": "python",
   "pygments_lexer": "ipython3",
   "version": "3.7.1"
  }
 },
 "nbformat": 4,
 "nbformat_minor": 2
}
