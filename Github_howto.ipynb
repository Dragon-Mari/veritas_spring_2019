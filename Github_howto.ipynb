{
 "cells": [
  {
   "cell_type": "markdown",
   "metadata": {},
   "source": [
    "~/Desktop/veritas/veritas_spring_2019"
   ]
  },
  {
   "cell_type": "markdown",
   "metadata": {},
   "source": [
    "# 1. Open Gitbash"
   ]
  },
  {
   "cell_type": "markdown",
   "metadata": {},
   "source": [
    "# 2. Type the following\n",
    "cd ~/Desktop/veritas/veritas_spring_2019"
   ]
  },
  {
   "cell_type": "markdown",
   "metadata": {},
   "source": [
    "# 3. Add\n",
    "git add --all"
   ]
  },
  {
   "cell_type": "markdown",
   "metadata": {},
   "source": [
    "# 4. Commit\n",
    "git commit -m \"add notebook\""
   ]
  },
  {
   "cell_type": "markdown",
   "metadata": {},
   "source": [
    "# 5. Push\n",
    "git push"
   ]
  },
  {
   "cell_type": "markdown",
   "metadata": {},
   "source": [
    "# \n",
    "# Heading (I like webtoons)\n",
    "## Next Heading (I don't Like this Kind of Hero)\n",
    "### Even More Headings (The Dragon Next Door)\n",
    "#### Headings Galore (Both are awesome)\n",
    "##### Wow... Headings (I will buy thier merch)\n",
    "###### Last Heading (Goodbye World)"
   ]
  },
  {
   "cell_type": "code",
   "execution_count": 1,
   "metadata": {
    "scrolled": true
   },
   "outputs": [
    {
     "name": "stdout",
     "output_type": "stream",
     "text": [
      "Hello\n"
     ]
    }
   ],
   "source": [
    "print(\"Hello\")"
   ]
  },
  {
   "cell_type": "code",
   "execution_count": 3,
   "metadata": {},
   "outputs": [
    {
     "name": "stdout",
     "output_type": "stream",
     "text": [
      "Orca\n",
      "Medusa\n",
      "Baekmore\n",
      "Seaworl\n",
      "1111\n",
      "Naga\n",
      "Heyna\n",
      "Sasa\n",
      "Mari\n"
     ]
    }
   ],
   "source": [
    "print(\"Orca\")\n",
    "print(\"Medusa\")\n",
    "print(\"Baekmore\")\n",
    "print(\"Seaworl\")\n",
    "print(666+444+1)\n",
    "print(\"Naga\")\n",
    "print(\"Heyna\")\n",
    "print(\"Sasa\")\n",
    "print(\"Mari\")"
   ]
  },
  {
   "cell_type": "code",
   "execution_count": null,
   "metadata": {},
   "outputs": [],
   "source": []
  }
 ],
 "metadata": {
  "kernelspec": {
   "display_name": "Python 3",
   "language": "python",
   "name": "python3"
  },
  "language_info": {
   "codemirror_mode": {
    "name": "ipython",
    "version": 3
   },
   "file_extension": ".py",
   "mimetype": "text/x-python",
   "name": "python",
   "nbconvert_exporter": "python",
   "pygments_lexer": "ipython3",
   "version": "3.7.1"
  }
 },
 "nbformat": 4,
 "nbformat_minor": 2
}
