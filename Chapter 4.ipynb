{
 "cells": [
  {
   "cell_type": "markdown",
   "metadata": {},
   "source": [
    "# Ch. 4 Turtles!"
   ]
  },
  {
   "cell_type": "code",
   "execution_count": 1,
   "metadata": {},
   "outputs": [],
   "source": [
    "import turtle             \n",
    "wn = turtle.Screen()        \n",
    "alex = turtle.Turtle()      \n",
    "alex.left(60)\n",
    "alex.forward(180)\n",
    "alex.left(130)\n",
    "alex.forward(150)\n",
    "alex.left(135)\n",
    "alex.forward(175)\n",
    "alex.left(150)\n",
    "alex.forward(190)\n",
    "alex.left(155)\n",
    "alex.forward(190)"
   ]
  }
 ],
 "metadata": {
  "kernelspec": {
   "display_name": "Python 3",
   "language": "python",
   "name": "python3"
  },
  "language_info": {
   "codemirror_mode": {
    "name": "ipython",
    "version": 3
   },
   "file_extension": ".py",
   "mimetype": "text/x-python",
   "name": "python",
   "nbconvert_exporter": "python",
   "pygments_lexer": "ipython3",
   "version": "3.7.1"
  }
 },
 "nbformat": 4,
 "nbformat_minor": 2
}
